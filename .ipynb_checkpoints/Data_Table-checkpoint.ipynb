{
 "cells": [
  {
   "cell_type": "code",
   "execution_count": 1,
   "metadata": {},
   "outputs": [
    {
     "data": {
      "text/html": [
       "<div>\n",
       "<style scoped>\n",
       "    .dataframe tbody tr th:only-of-type {\n",
       "        vertical-align: middle;\n",
       "    }\n",
       "\n",
       "    .dataframe tbody tr th {\n",
       "        vertical-align: top;\n",
       "    }\n",
       "\n",
       "    .dataframe thead th {\n",
       "        text-align: right;\n",
       "    }\n",
       "</style>\n",
       "<table border=\"1\" class=\"dataframe\">\n",
       "  <thead>\n",
       "    <tr style=\"text-align: right;\">\n",
       "      <th></th>\n",
       "      <th>City</th>\n",
       "      <th>Cloudiness</th>\n",
       "      <th>Country</th>\n",
       "      <th>Date</th>\n",
       "      <th>Humidity</th>\n",
       "      <th>Lat</th>\n",
       "      <th>Lng</th>\n",
       "      <th>Max Temp</th>\n",
       "      <th>Wind Speed</th>\n",
       "    </tr>\n",
       "  </thead>\n",
       "  <tbody>\n",
       "    <tr>\n",
       "      <th>0</th>\n",
       "      <td>Ponta do Sol</td>\n",
       "      <td>5</td>\n",
       "      <td>BR</td>\n",
       "      <td>1563579073</td>\n",
       "      <td>65</td>\n",
       "      <td>-20.63</td>\n",
       "      <td>-46.00</td>\n",
       "      <td>286.059</td>\n",
       "      <td>2.21</td>\n",
       "    </tr>\n",
       "    <tr>\n",
       "      <th>1</th>\n",
       "      <td>Jamestown</td>\n",
       "      <td>0</td>\n",
       "      <td>AU</td>\n",
       "      <td>1563578989</td>\n",
       "      <td>43</td>\n",
       "      <td>-33.21</td>\n",
       "      <td>138.60</td>\n",
       "      <td>286.559</td>\n",
       "      <td>7.77</td>\n",
       "    </tr>\n",
       "    <tr>\n",
       "      <th>2</th>\n",
       "      <td>Ushuaia</td>\n",
       "      <td>20</td>\n",
       "      <td>AR</td>\n",
       "      <td>1563578968</td>\n",
       "      <td>64</td>\n",
       "      <td>-54.81</td>\n",
       "      <td>-68.31</td>\n",
       "      <td>276.150</td>\n",
       "      <td>1.50</td>\n",
       "    </tr>\n",
       "    <tr>\n",
       "      <th>3</th>\n",
       "      <td>Mount Gambier</td>\n",
       "      <td>31</td>\n",
       "      <td>AU</td>\n",
       "      <td>1563578667</td>\n",
       "      <td>66</td>\n",
       "      <td>-37.83</td>\n",
       "      <td>140.78</td>\n",
       "      <td>283.150</td>\n",
       "      <td>7.70</td>\n",
       "    </tr>\n",
       "    <tr>\n",
       "      <th>4</th>\n",
       "      <td>Omboue</td>\n",
       "      <td>100</td>\n",
       "      <td>GA</td>\n",
       "      <td>1563579412</td>\n",
       "      <td>88</td>\n",
       "      <td>-1.57</td>\n",
       "      <td>9.26</td>\n",
       "      <td>296.759</td>\n",
       "      <td>4.34</td>\n",
       "    </tr>\n",
       "  </tbody>\n",
       "</table>\n",
       "</div>"
      ],
      "text/plain": [
       "            City  Cloudiness Country        Date  Humidity    Lat     Lng  \\\n",
       "0   Ponta do Sol           5      BR  1563579073        65 -20.63  -46.00   \n",
       "1      Jamestown           0      AU  1563578989        43 -33.21  138.60   \n",
       "2        Ushuaia          20      AR  1563578968        64 -54.81  -68.31   \n",
       "3  Mount Gambier          31      AU  1563578667        66 -37.83  140.78   \n",
       "4         Omboue         100      GA  1563579412        88  -1.57    9.26   \n",
       "\n",
       "   Max Temp  Wind Speed  \n",
       "0   286.059        2.21  \n",
       "1   286.559        7.77  \n",
       "2   276.150        1.50  \n",
       "3   283.150        7.70  \n",
       "4   296.759        4.34  "
      ]
     },
     "execution_count": 1,
     "metadata": {},
     "output_type": "execute_result"
    }
   ],
   "source": [
    "# Dependencies and Setup\n",
    "import pandas as pd\n",
    "import numpy as np\n",
    "\n",
    "file_to_load = \"weather.csv\"\n",
    "\n",
    "weather_data = pd.read_csv(file_to_load)\n",
    "weather_data.head()"
   ]
  },
  {
   "cell_type": "code",
   "execution_count": 14,
   "metadata": {},
   "outputs": [],
   "source": [
    "#Convert to html and save as html file\n",
    "weather_html= weather_data.to_html('weather_data.html')\n"
   ]
  },
  {
   "cell_type": "code",
   "execution_count": null,
   "metadata": {},
   "outputs": [],
   "source": []
  }
 ],
 "metadata": {
  "anaconda-cloud": {},
  "kernel_info": {
   "name": "python3"
  },
  "kernelspec": {
   "display_name": "Python 3",
   "language": "python",
   "name": "python3"
  },
  "language_info": {
   "codemirror_mode": {
    "name": "ipython",
    "version": 3
   },
   "file_extension": ".py",
   "mimetype": "text/x-python",
   "name": "python",
   "nbconvert_exporter": "python",
   "pygments_lexer": "ipython3",
   "version": "3.7.3"
  },
  "nteract": {
   "version": "0.2.0"
  }
 },
 "nbformat": 4,
 "nbformat_minor": 2
}
